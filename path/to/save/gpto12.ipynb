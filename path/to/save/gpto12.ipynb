{
 "cells": [
  {
   "cell_type": "code",
   "execution_count": 1,
   "metadata": {},
   "outputs": [
    {
     "name": "stderr",
     "output_type": "stream",
     "text": [
      "Special tokens have been added in the vocabulary, make sure the associated word embeddings are fine-tuned or trained.\n",
      "Special tokens have been added in the vocabulary, make sure the associated word embeddings are fine-tuned or trained.\n"
     ]
    },
    {
     "data": {
      "application/vnd.jupyter.widget-view+json": {
       "model_id": "a70c8a23aa7f41c4836c442713647f22",
       "version_major": 2,
       "version_minor": 0
      },
      "text/plain": [
       "Downloading data:   0%|          | 0.00/733k [00:00<?, ?B/s]"
      ]
     },
     "metadata": {},
     "output_type": "display_data"
    },
    {
     "data": {
      "application/vnd.jupyter.widget-view+json": {
       "model_id": "5461aee8e97445f1884b813dd4ff0a7c",
       "version_major": 2,
       "version_minor": 0
      },
      "text/plain": [
       "Downloading data:   0%|          | 0.00/157M [00:00<?, ?B/s]"
      ]
     },
     "metadata": {},
     "output_type": "display_data"
    },
    {
     "data": {
      "application/vnd.jupyter.widget-view+json": {
       "model_id": "a74dbe48213f412aabcf205694fde7ee",
       "version_major": 2,
       "version_minor": 0
      },
      "text/plain": [
       "Downloading data:   0%|          | 0.00/157M [00:00<?, ?B/s]"
      ]
     },
     "metadata": {},
     "output_type": "display_data"
    },
    {
     "data": {
      "application/vnd.jupyter.widget-view+json": {
       "model_id": "2cbe6e4b9b8b4e93a458e61e805b6857",
       "version_major": 2,
       "version_minor": 0
      },
      "text/plain": [
       "Downloading data:   0%|          | 0.00/657k [00:00<?, ?B/s]"
      ]
     },
     "metadata": {},
     "output_type": "display_data"
    },
    {
     "data": {
      "application/vnd.jupyter.widget-view+json": {
       "model_id": "1ac9f9625e554048926d7cf4418564aa",
       "version_major": 2,
       "version_minor": 0
      },
      "text/plain": [
       "Generating test split:   0%|          | 0/4358 [00:00<?, ? examples/s]"
      ]
     },
     "metadata": {},
     "output_type": "display_data"
    },
    {
     "data": {
      "application/vnd.jupyter.widget-view+json": {
       "model_id": "f7ce687c833f4c8bb652aaba4bc3a723",
       "version_major": 2,
       "version_minor": 0
      },
      "text/plain": [
       "Generating train split:   0%|          | 0/1801350 [00:00<?, ? examples/s]"
      ]
     },
     "metadata": {},
     "output_type": "display_data"
    },
    {
     "data": {
      "application/vnd.jupyter.widget-view+json": {
       "model_id": "483908b4b6d64fd5bb4bc782af4fa651",
       "version_major": 2,
       "version_minor": 0
      },
      "text/plain": [
       "Generating validation split:   0%|          | 0/3760 [00:00<?, ? examples/s]"
      ]
     },
     "metadata": {},
     "output_type": "display_data"
    },
    {
     "name": "stdout",
     "output_type": "stream",
     "text": [
      "Loaded 1801350 examples from the train split of wikitext\n",
      "Preparing the dataset...\n"
     ]
    },
    {
     "name": "stderr",
     "output_type": "stream",
     "text": [
      "C:\\Users\\raymo\\AppData\\Roaming\\Python\\Python311\\site-packages\\transformers\\models\\qwen2\\modeling_qwen2.py:679: UserWarning: 1Torch was not compiled with flash attention. (Triggered internally at C:\\actions-runner\\_work\\pytorch\\pytorch\\builder\\windows\\pytorch\\aten\\src\\ATen\\native\\transformers\\cuda\\sdp_utils.cpp:555.)\n",
      "  attn_output = torch.nn.functional.scaled_dot_product_attention(\n"
     ]
    }
   ],
   "source": [
    "import torch\n",
    "from torch.utils.data import Dataset, DataLoader\n",
    "from torch.nn.utils.rnn import pad_sequence\n",
    "from transformers import AutoModelForCausalLM, AutoTokenizer\n",
    "from datasets import load_dataset  # New import for datasets library\n",
    "\n",
    "# Load the reference model and tokenizer\n",
    "reference_tokenizer = AutoTokenizer.from_pretrained(\"Qwen/Qwen2.5-1.5B\")\n",
    "reference_model = AutoModelForCausalLM.from_pretrained(\"Qwen/Qwen2.5-1.5B\")\n",
    "\n",
    "# Load the tinyLlama model and tokenizer\n",
    "tinylama_tokenizer = AutoTokenizer.from_pretrained(\"Qwen/Qwen2.5-0.5B\")\n",
    "tinylama_model = AutoModelForCausalLM.from_pretrained(\"Qwen/Qwen2.5-0.5B\")\n",
    "\n",
    "# Device configuration\n",
    "device = torch.device('cuda' if torch.cuda.is_available() else 'cpu')\n",
    "reference_model.to(device)\n",
    "tinylama_model.to(device)\n",
    "\n",
    "# New: Load the Wikimedia dataset\n",
    "dataset_name = 'wikitext'  # You can also use 'wiki40b' or other datasets\n",
    "dataset_version = 'wikitext-103-raw-v1'  # For 'wikitext' dataset\n",
    "split = 'train'  # You can choose 'train', 'validation', or 'test'\n",
    "\n",
    "# Load the dataset using Hugging Face Datasets\n",
    "raw_datasets = load_dataset(dataset_name, dataset_version, split=split)\n",
    "print(f\"Loaded {len(raw_datasets)} examples from the {split} split of {dataset_name}\")\n",
    "\n",
    "class ReferenceDataset(Dataset):\n",
    "    def __init__(self, datasets, tokenizer, block_size, reference_model, device):\n",
    "        self.examples = []\n",
    "        self.reference_losses = []\n",
    "        self.tokenizer = tokenizer\n",
    "        self.reference_model = reference_model\n",
    "        self.device = device\n",
    "        self.block_size = block_size\n",
    "        self.prepare_dataset(datasets)\n",
    "    \n",
    "    def prepare_dataset(self, datasets):\n",
    "        self.reference_model.eval()\n",
    "        with torch.no_grad():\n",
    "            for example in datasets:\n",
    "                text = example['text']\n",
    "                # Tokenize and split into blocks\n",
    "                tokens = self.tokenizer.encode(text, add_special_tokens=False)\n",
    "                for i in range(0, len(tokens), self.block_size):\n",
    "                    block_tokens = tokens[i:i + self.block_size]\n",
    "                    input_ids = torch.tensor(block_tokens, dtype=torch.long).unsqueeze(0).to(self.device)\n",
    "                    labels = input_ids.clone()\n",
    "                    \n",
    "                    # Compute reference loss\n",
    "                    outputs = self.reference_model(input_ids)\n",
    "                    logits = outputs.logits\n",
    "                    shift_logits = logits[..., :-1, :].contiguous()\n",
    "                    shift_labels = labels[..., 1:].contiguous()\n",
    "                    loss_fct = torch.nn.CrossEntropyLoss(reduction='none')\n",
    "                    loss = loss_fct(shift_logits.view(-1, shift_logits.size(-1)), shift_labels.view(-1))\n",
    "                    loss = loss.view(shift_labels.size())  # Shape: [1, seq_len - 1]\n",
    "                    \n",
    "                    # Store input_ids and reference loss\n",
    "                    self.examples.append(input_ids.squeeze(0).cpu())\n",
    "                    self.reference_losses.append(loss.squeeze(0).cpu())\n",
    "\n",
    "    def __len__(self):\n",
    "        return len(self.examples)\n",
    "\n",
    "    def __getitem__(self, idx):\n",
    "        return self.examples[idx], self.reference_losses[idx]\n",
    "\n",
    "def collate_fn(batch):\n",
    "    input_ids_list, ref_losses_list = zip(*batch)\n",
    "    input_ids_padded = pad_sequence(input_ids_list, batch_first=True, padding_value=reference_tokenizer.pad_token_id)\n",
    "    ref_losses_padded = pad_sequence(ref_losses_list, batch_first=True, padding_value=0.0)\n",
    "    return input_ids_padded, ref_losses_padded\n",
    "\n",
    "# Hyperparameters\n",
    "block_size = 128  # Maximum sequence length for each example\n",
    "batch_size = 4\n",
    "num_epochs = 3\n",
    "learning_rate = 1e-5\n",
    "\n",
    "# Prepare the dataset and dataloader\n",
    "print(\"Preparing the dataset...\")\n",
    "dataset = ReferenceDataset(raw_datasets, reference_tokenizer, block_size, reference_model, device)\n",
    "dataloader = DataLoader(dataset, batch_size=batch_size, shuffle=True, collate_fn=collate_fn)\n",
    "print(\"Dataset preparation complete.\")\n",
    "\n",
    "# Optimizer\n",
    "optimizer = torch.optim.AdamW(tinylama_model.parameters(), lr=learning_rate)\n",
    "\n",
    "# Training loop\n",
    "tinylama_model.train()\n",
    "for epoch in range(num_epochs):\n",
    "    print(f\"Starting epoch {epoch+1}/{num_epochs}\")\n",
    "    for batch_idx, (input_ids, ref_losses) in enumerate(dataloader):\n",
    "        input_ids = input_ids.to(device)\n",
    "        ref_losses = ref_losses.to(device)\n",
    "        \n",
    "        # Prepare inputs and labels for tinyLlama\n",
    "        inputs = input_ids[:, :-1]  # Exclude last token\n",
    "        labels = input_ids[:, 1:]   # Exclude first token\n",
    "        \n",
    "        # Forward pass through tinyLlama\n",
    "        outputs = tinylama_model(inputs, labels=labels)\n",
    "        logits = outputs.logits\n",
    "        shift_logits = logits.contiguous()\n",
    "        shift_labels = labels.contiguous()\n",
    "        \n",
    "        # Compute training loss per token\n",
    "        loss_fct = torch.nn.CrossEntropyLoss(reduction='none')\n",
    "        training_loss = loss_fct(shift_logits.view(-1, shift_logits.size(-1)), shift_labels.view(-1))\n",
    "        training_loss = training_loss.view(shift_labels.size())  # Shape: [batch_size, seq_len - 1]\n",
    "        \n",
    "        # Compute excess loss: training loss minus reference loss\n",
    "        excess_loss = training_loss - ref_losses\n",
    "        \n",
    "        # Flatten excess loss to select top 30%\n",
    "        flat_excess_loss = excess_loss.view(-1)\n",
    "        num_tokens = flat_excess_loss.size(0)\n",
    "        top_k = int(num_tokens * 0.3)\n",
    "        \n",
    "        if top_k == 0:\n",
    "            # If the number of tokens is too small, default to keeping all tokens\n",
    "            mask = torch.ones_like(flat_excess_loss)\n",
    "        else:\n",
    "            # Select indices of top 30% excess losses\n",
    "            top_values, top_indices = torch.topk(flat_excess_loss, k=top_k)\n",
    "            mask = torch.zeros_like(flat_excess_loss)\n",
    "            mask[top_indices] = 1.0\n",
    "        \n",
    "        mask = mask.view(excess_loss.size())  # Shape: [batch_size, seq_len - 1]\n",
    "        \n",
    "        # Zero out losses not in top 30%\n",
    "        final_loss = (training_loss * mask).sum() / mask.sum()\n",
    "        \n",
    "        # Backpropagation\n",
    "        optimizer.zero_grad()\n",
    "        final_loss.backward()\n",
    "        optimizer.step()\n",
    "        \n",
    "        if (batch_idx + 1) % 100 == 0:\n",
    "            print(f\"Epoch [{epoch+1}/{num_epochs}], Batch [{batch_idx+1}/{len(dataloader)}], Loss: {final_loss.item():.4f}\")\n",
    "\n",
    "    print(f\"Epoch {epoch+1} complete.\")\n",
    "\n",
    "# Save the trained tinyLlama model\n",
    "tinylama_model.save_pretrained('path/to/save/tinylama_model')\n",
    "tinylama_tokenizer.save_pretrained('path/to/save/tinylama_tokenizer')"
   ]
  }
 ],
 "metadata": {
  "kernelspec": {
   "display_name": "base",
   "language": "python",
   "name": "python3"
  },
  "language_info": {
   "codemirror_mode": {
    "name": "ipython",
    "version": 3
   },
   "file_extension": ".py",
   "mimetype": "text/x-python",
   "name": "python",
   "nbconvert_exporter": "python",
   "pygments_lexer": "ipython3",
   "version": "3.11.7"
  }
 },
 "nbformat": 4,
 "nbformat_minor": 2
}
